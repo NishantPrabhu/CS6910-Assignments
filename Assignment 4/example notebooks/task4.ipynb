{
 "cells": [
  {
   "cell_type": "code",
   "execution_count": 23,
   "metadata": {},
   "outputs": [],
   "source": [
    "import os \n",
    "import re \n",
    "import string\n",
    "import pickle\n",
    "import numpy as np\n",
    "import seaborn as sns\n",
    "from tqdm.notebook import tqdm\n",
    "from nltk.translate.bleu_score import corpus_bleu\n",
    "from matplotlib import pyplot as plt\n",
    "\n",
    "import tensorflow as tf\n",
    "from tensorflow.keras.models import load_model\n",
    "from tensorflow.keras.preprocessing.sequence import pad_sequences\n",
    "\n",
    "# Force CPU computation\n",
    "os.environ['CUDA_VISIBLE_DEVICES'] = '-1'"
   ]
  },
  {
   "cell_type": "code",
   "execution_count": 26,
   "metadata": {},
   "outputs": [],
   "source": [
    "# Hindi font for matplotlib/seaborn\n",
    "# Please download the hindi font from https://www.wfonts.com/font/nirmala-ui ...\n",
    "# ... and replace the path next to fname accordingly\n",
    "\n",
    "from matplotlib.font_manager import FontProperties\n",
    "hindi_font = FontProperties(fname=\"/home/nishant/Fonts/nirmala-ui/Nirmala.ttf\")"
   ]
  },
  {
   "cell_type": "markdown",
   "metadata": {},
   "source": [
    "# Data preparation"
   ]
  },
  {
   "cell_type": "code",
   "execution_count": 3,
   "metadata": {},
   "outputs": [],
   "source": [
    "# Load files\n",
    "with open(\"../data/task2/train.en\", \"r\") as f:\n",
    "    train_en = f.read().split(\"\\n\")\n",
    "    \n",
    "with open(\"../data/task2/train.hi\", \"r\") as f:\n",
    "    train_hi = f.read().split(\"\\n\")\n",
    "    \n",
    "with open(\"../data/task2/dev.en\", \"r\") as f:\n",
    "    dev_en = f.read().split(\"\\n\")\n",
    "    \n",
    "with open(\"../data/task2/dev.hi\", \"r\") as f:\n",
    "    dev_hi = f.read().split(\"\\n\")\n",
    "    \n",
    "with open(\"../saved_data/machine_translation/lstm_atn/en_tokenizer.pkl\", \"rb\") as f:\n",
    "    en_tokenizer = pickle.load(f)\n",
    "    \n",
    "with open(\"../saved_data/machine_translation/lstm_atn/hi_tokenizer.pkl\", \"rb\") as f:\n",
    "    hi_tokenizer = pickle.load(f)\n",
    "    \n",
    "puncts = string.punctuation + train_hi[3][-1]\n",
    "\n",
    "\n",
    "def preprocess_line(line):\n",
    "    line = line.translate(str.maketrans(\"\", \"\", puncts))\n",
    "    line = re.sub(\"\\u200b\", \" \", line)\n",
    "    line = re.sub(\"\\u200d\", \" \", line)\n",
    "    line = re.sub(\"\\d+\", \" \", line)\n",
    "    line = line.lower()\n",
    "    line = \" \".join(line.split())\n",
    "    return line\n",
    "\n",
    "train_en = [preprocess_line(line) for line in train_en]\n",
    "train_hi = [preprocess_line(line) for line in train_hi]\n",
    "dev_en = [preprocess_line(line) for line in dev_en]\n",
    "dev_hi = [preprocess_line(line) for line in dev_hi]"
   ]
  },
  {
   "cell_type": "markdown",
   "metadata": {},
   "source": [
    "# Evaluation functions"
   ]
  },
  {
   "cell_type": "code",
   "execution_count": 80,
   "metadata": {},
   "outputs": [],
   "source": [
    "def load_models(enc_path, dec_path):\n",
    "    encoder_model = load_model(enc_path)\n",
    "    decoder_model = load_model(dec_path)\n",
    "    return encoder_model, decoder_model\n",
    "\n",
    "\n",
    "def translate(input_sentence):\n",
    "    line = preprocess_line(input_sentence)\n",
    "    tokens = en_tokenizer.texts_to_sequences([line])\n",
    "    tokens = pad_sequences(tokens, maxlen=30, padding='post')\n",
    "    tokens = np.flip(tokens)\n",
    "    \n",
    "    enc_out, init_states = encoder_model(tokens)\n",
    "    dec_in = tf.expand_dims([hi_tokenizer.word_index['startseq']], 1)\n",
    "    \n",
    "    words = []\n",
    "    weight_list = []\n",
    "    \n",
    "    for t in range(29):\n",
    "        preds, init_states, weights = decoder_model([dec_in, enc_out, init_states])\n",
    "        pred_idx = np.argmax(preds, -1)[0]\n",
    "        word = hi_tokenizer.index_word.get(pred_idx)\n",
    "        \n",
    "        if word is None or word == \"endseq\":\n",
    "            break\n",
    "            \n",
    "        words.append(word)\n",
    "        dec_in = tf.expand_dims([pred_idx], 1)\n",
    "        weight_list.append(weights)\n",
    "        \n",
    "    return \" \".join(words), weight_list\n",
    "\n",
    "\n",
    "def evaluate_model(input_sentences, output_sentences):\n",
    "    actual, predicted = [], []\n",
    "    for in_line, out_line in tqdm(zip(input_sentences, output_sentences),\n",
    "                                  total=len(input_sentences)):\n",
    "        hypothesis, _ = translate(in_line)\n",
    "        references = out_line\n",
    "        actual.append([references.split()])\n",
    "        predicted.append(hypothesis.split())\n",
    "    \n",
    "    print(\"BLEU-1: {:.3f}\".format(corpus_bleu(actual, predicted, weights=(1., 0, 0, 0))))\n",
    "    print(\"BLEU-2: {:.3f}\".format(corpus_bleu(actual, predicted, weights=(.5, .5, 0, 0))))\n",
    "    print(\"BLEU-3: {:.3f}\".format(corpus_bleu(actual, predicted, weights=(.3, .3, .3, 0))))\n",
    "    print(\"BLEU-4: {:.3f}\".format(corpus_bleu(actual, predicted, weights=(.25, .25, .25, .25))))\n",
    "    \n",
    "    \n",
    "def plot_attention_weights(weights_list, eng_sentence, hindi_sentence):\n",
    "    eng_words = preprocess_line(eng_sentence).split()\n",
    "    hindi_words = hindi_sentence.split()\n",
    "\n",
    "    weights = np.array(weights_list).squeeze(3).squeeze(1)\n",
    "    weights = weights[:, -len(eng_words):]\n",
    "    \n",
    "    fig = plt.figure(figsize=(6, 6))\n",
    "    ax = fig.add_subplot(111)\n",
    "    sns.heatmap(weights, square=True, cbar=False, cmap='gray', linewidth=0.1, linecolor='white')\n",
    "    ax.set_xticklabels(eng_words, fontsize=12)\n",
    "    ax.set_yticklabels(np.flip(hindi_words), fontproperties=hindi_font, fontsize=12)\n",
    "    plt.title(\"Attention weights\", fontweight='bold', fontsize=15)\n",
    "    plt.show()"
   ]
  },
  {
   "cell_type": "markdown",
   "metadata": {},
   "source": [
    "# Model evaluation"
   ]
  },
  {
   "cell_type": "code",
   "execution_count": 5,
   "metadata": {},
   "outputs": [
    {
     "name": "stdout",
     "output_type": "stream",
     "text": [
      "WARNING:tensorflow:No training configuration found in save file, so the model was *not* compiled. Compile it manually.\n",
      "WARNING:tensorflow:No training configuration found in save file, so the model was *not* compiled. Compile it manually.\n"
     ]
    },
    {
     "data": {
      "application/vnd.jupyter.widget-view+json": {
       "model_id": "103efaa3686949fd84c19e3e3fb5b69f",
       "version_major": 2,
       "version_minor": 0
      },
      "text/plain": [
       "HBox(children=(FloatProgress(value=0.0, max=5000.0), HTML(value='')))"
      ]
     },
     "metadata": {},
     "output_type": "display_data"
    },
    {
     "name": "stdout",
     "output_type": "stream",
     "text": [
      "\n",
      "BLEU-1: 0.362\n",
      "BLEU-2: 0.270\n",
      "BLEU-3: 0.242\n",
      "BLEU-4: 0.172\n"
     ]
    },
    {
     "data": {
      "application/vnd.jupyter.widget-view+json": {
       "model_id": "70ab44d1dbab47eab5300b43a64d1a20",
       "version_major": 2,
       "version_minor": 0
      },
      "text/plain": [
       "HBox(children=(FloatProgress(value=0.0, max=501.0), HTML(value='')))"
      ]
     },
     "metadata": {},
     "output_type": "display_data"
    },
    {
     "name": "stdout",
     "output_type": "stream",
     "text": [
      "\n",
      "BLEU-1: 0.198\n",
      "BLEU-2: 0.082\n",
      "BLEU-3: 0.051\n",
      "BLEU-4: 0.018\n"
     ]
    }
   ],
   "source": [
    "# Load models\n",
    "encoder_model, decoder_model = load_models(\n",
    "    enc_path = \"../saved_data/machine_translation/lstm_atn/models/encoder_30\",\n",
    "    dec_path = \"../saved_data/machine_translation/lstm_atn/models/decoder_30\"\n",
    ")\n",
    "\n",
    "# Train data evaluation\n",
    "# Evaluating only first 5000 training sentences\n",
    "evaluate_model(train_en[:5000], train_hi[:5000])\n",
    "\n",
    "# Development data evaluation\n",
    "evaluate_model(dev_en, dev_hi)"
   ]
  },
  {
   "cell_type": "markdown",
   "metadata": {},
   "source": [
    "# Examples"
   ]
  },
  {
   "cell_type": "code",
   "execution_count": 83,
   "metadata": {},
   "outputs": [
    {
     "name": "stdout",
     "output_type": "stream",
     "text": [
      "[ENGLISH]: Where are you going?\n",
      "\n",
      "[HINDI]: कहाँ जा रहे हो\n",
      "\n",
      "\n"
     ]
    },
    {
     "data": {
      "image/png": "[encoded data removed]",
      "text/plain": [
       "<Figure size 432x432 with 1 Axes>"
      ]
     },
     "metadata": {
      "needs_background": "light"
     },
     "output_type": "display_data"
    }
   ],
   "source": [
    "input_sentence = \"Where are you going?\"\n",
    "sent, weights = translate(input_sentence)\n",
    "\n",
    "print(\"[ENGLISH]: {}\".format(input_sentence))\n",
    "print(\"\\n[HINDI]: {}\".format(sent))\n",
    "\n",
    "# Plot attention weights\n",
    "print(\"\\n\")\n",
    "plot_attention_weights(weights, input_sentence, sent)"
   ]
  }
 ],
 "metadata": {
  "kernelspec": {
   "display_name": "Python 3",
   "language": "python",
   "name": "python3"
  },
  "language_info": {
   "codemirror_mode": {
    "name": "ipython",
    "version": 3
   },
   "file_extension": ".py",
   "mimetype": "text/x-python",
   "name": "python",
   "nbconvert_exporter": "python",
   "pygments_lexer": "ipython3",
   "version": "3.6.9"
  }
 },
 "nbformat": 4,
 "nbformat_minor": 2
}
